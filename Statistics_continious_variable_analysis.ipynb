{
 "cells": [
  {
   "cell_type": "code",
   "execution_count": 1,
   "metadata": {},
   "outputs": [],
   "source": [
    "import pandas as pd\n",
    "import matplotlib.pyplot as plt\n",
    "import numpy as np\n",
    "import math\n",
    "%matplotlib inline"
   ]
  },
  {
   "cell_type": "code",
   "execution_count": 2,
   "metadata": {},
   "outputs": [
    {
     "data": {
      "text/html": [
       "<div>\n",
       "<style scoped>\n",
       "    .dataframe tbody tr th:only-of-type {\n",
       "        vertical-align: middle;\n",
       "    }\n",
       "\n",
       "    .dataframe tbody tr th {\n",
       "        vertical-align: top;\n",
       "    }\n",
       "\n",
       "    .dataframe thead th {\n",
       "        text-align: right;\n",
       "    }\n",
       "</style>\n",
       "<table border=\"1\" class=\"dataframe\">\n",
       "  <thead>\n",
       "    <tr style=\"text-align: right;\">\n",
       "      <th></th>\n",
       "      <th>time</th>\n",
       "      <th>sex</th>\n",
       "      <th>height</th>\n",
       "      <th>shoe_size</th>\n",
       "    </tr>\n",
       "  </thead>\n",
       "  <tbody>\n",
       "    <tr>\n",
       "      <th>0</th>\n",
       "      <td>04.10.2016 17:58:51</td>\n",
       "      <td>woman</td>\n",
       "      <td>160.0</td>\n",
       "      <td>40</td>\n",
       "    </tr>\n",
       "    <tr>\n",
       "      <th>1</th>\n",
       "      <td>04.10.2016 17:58:59</td>\n",
       "      <td>woman</td>\n",
       "      <td>171.0</td>\n",
       "      <td>39</td>\n",
       "    </tr>\n",
       "    <tr>\n",
       "      <th>2</th>\n",
       "      <td>04.10.2016 18:00:15</td>\n",
       "      <td>woman</td>\n",
       "      <td>174.0</td>\n",
       "      <td>39</td>\n",
       "    </tr>\n",
       "    <tr>\n",
       "      <th>3</th>\n",
       "      <td>04.10.2016 18:01:17</td>\n",
       "      <td>woman</td>\n",
       "      <td>176.0</td>\n",
       "      <td>40</td>\n",
       "    </tr>\n",
       "    <tr>\n",
       "      <th>4</th>\n",
       "      <td>04.10.2016 18:01:22</td>\n",
       "      <td>man</td>\n",
       "      <td>195.0</td>\n",
       "      <td>46</td>\n",
       "    </tr>\n",
       "  </tbody>\n",
       "</table>\n",
       "</div>"
      ],
      "text/plain": [
       "                  time    sex  height  shoe_size\n",
       "0  04.10.2016 17:58:51  woman   160.0         40\n",
       "1  04.10.2016 17:58:59  woman   171.0         39\n",
       "2  04.10.2016 18:00:15  woman   174.0         39\n",
       "3  04.10.2016 18:01:17  woman   176.0         40\n",
       "4  04.10.2016 18:01:22    man   195.0         46"
      ]
     },
     "execution_count": 2,
     "metadata": {},
     "output_type": "execute_result"
    }
   ],
   "source": [
    "data = pd.read_csv(\"wo_men.csv\")\n",
    "data.head()"
   ]
  },
  {
   "cell_type": "code",
   "execution_count": 3,
   "metadata": {},
   "outputs": [
    {
     "name": "stdout",
     "output_type": "stream",
     "text": [
      "r + 1 = 8\n",
      "l = 1.625\n"
     ]
    }
   ],
   "source": [
    "shoe_sizes = np.array(data[\"shoe_size\"])\n",
    "n = len(shoe_sizes)\n",
    "num_intervals = math.ceil(math.log(n, 2))\n",
    "print(f\"r + 1 = {num_intervals}\")\n",
    "range_ = np.max(shoe_sizes) - np.min(shoe_sizes)\n",
    "l = range_ / num_intervals\n",
    "print(f\"l = {l}\")"
   ]
  },
  {
   "cell_type": "code",
   "execution_count": 4,
   "metadata": {},
   "outputs": [
    {
     "name": "stdout",
     "output_type": "stream",
     "text": [
      "Variation series:\n",
      " [35 35 36 36 36 36 36 36 36 36 36 37 37 37 37 37 37 37 37 37 37 37 37 37\n",
      " 37 37 37 37 37 38 38 38 38 38 38 38 38 38 38 38 38 38 38 38 38 38 38 38\n",
      " 38 38 38 38 38 38 38 38 38 38 38 38 38 38 39 39 39 39 39 39 39 39 39 39\n",
      " 39 39 39 39 39 39 39 39 39 39 39 40 40 40 40 40 40 40 40 40 40 40 40 40\n",
      " 40 40 40 40 41 41 41 41 41 41 41 41 41 41 41 41 41 42 42 42 42 42 42 42\n",
      " 42 42 43 43 43 43 43 43 44 44 44 44 44 44 44 44 44 44 44 44 44 44 45 45\n",
      " 45 45 45 45 45 45 45 45 46 46 46 46 47 47 47 48]\n",
      "160 elements\n"
     ]
    }
   ],
   "source": [
    "# building variation series\n",
    "shoe_sizes = np.sort(shoe_sizes)\n",
    "print(\"Variation series:\\n\", shoe_sizes)\n",
    "print(f\"{len(shoe_sizes)} elements\")"
   ]
  },
  {
   "cell_type": "code",
   "execution_count": 5,
   "metadata": {},
   "outputs": [
    {
     "name": "stdout",
     "output_type": "stream",
     "text": [
      "\t\tFrequency distribution table\n"
     ]
    },
    {
     "data": {
      "text/html": [
       "<div>\n",
       "<style scoped>\n",
       "    .dataframe tbody tr th:only-of-type {\n",
       "        vertical-align: middle;\n",
       "    }\n",
       "\n",
       "    .dataframe tbody tr th {\n",
       "        vertical-align: top;\n",
       "    }\n",
       "\n",
       "    .dataframe thead th {\n",
       "        text-align: right;\n",
       "    }\n",
       "</style>\n",
       "<table border=\"1\" class=\"dataframe\">\n",
       "  <thead>\n",
       "    <tr style=\"text-align: right;\">\n",
       "      <th></th>\n",
       "      <th>[35.0-36.625)</th>\n",
       "      <th>[36.625-38.25)</th>\n",
       "      <th>[38.25-39.875)</th>\n",
       "      <th>[39.875-41.5)</th>\n",
       "      <th>[41.5-43.125)</th>\n",
       "      <th>[43.125-44.75)</th>\n",
       "      <th>[44.75-46.375)</th>\n",
       "      <th>[46.375-48.0]</th>\n",
       "    </tr>\n",
       "  </thead>\n",
       "  <tbody>\n",
       "    <tr>\n",
       "      <th>Zi</th>\n",
       "      <td>35.8125</td>\n",
       "      <td>37.4375</td>\n",
       "      <td>39.0625</td>\n",
       "      <td>40.6875</td>\n",
       "      <td>42.3125</td>\n",
       "      <td>43.9375</td>\n",
       "      <td>45.5625</td>\n",
       "      <td>47.1875</td>\n",
       "    </tr>\n",
       "    <tr>\n",
       "      <th>Ni</th>\n",
       "      <td>11</td>\n",
       "      <td>51</td>\n",
       "      <td>21</td>\n",
       "      <td>30</td>\n",
       "      <td>15</td>\n",
       "      <td>14</td>\n",
       "      <td>14</td>\n",
       "      <td>4</td>\n",
       "    </tr>\n",
       "  </tbody>\n",
       "</table>\n",
       "</div>"
      ],
      "text/plain": [
       "   [35.0-36.625) [36.625-38.25) [38.25-39.875) [39.875-41.5) [41.5-43.125)  \\\n",
       "Zi       35.8125        37.4375        39.0625       40.6875       42.3125   \n",
       "Ni            11             51             21            30            15   \n",
       "\n",
       "   [43.125-44.75) [44.75-46.375) [46.375-48.0]  \n",
       "Zi        43.9375        45.5625       47.1875  \n",
       "Ni             14             14             4  "
      ]
     },
     "metadata": {},
     "output_type": "display_data"
    },
    {
     "name": "stdout",
     "output_type": "stream",
     "text": [
      "Sum = 160\n"
     ]
    }
   ],
   "source": [
    "# frequency distribution table\n",
    "from IPython.display import display, HTML\n",
    "range_points = [np.min(shoe_sizes)+l*i for i in range(num_intervals+1)]\n",
    "intervals = [f\"[{range_points[i]}-{range_points[i+1]})\" for i in range(len(range_points)-1)]\n",
    "intervals[-1] = f\"[{range_points[len(range_points)-2]}-{range_points[len(range_points)-1]}]\"\n",
    "interv_middles = []\n",
    "for i in range(len(range_points)-1):\n",
    "    interv_middles.append((range_points[i]+range_points[i+1])/2)\n",
    "\n",
    "def belongs_to_interval(value, start, end, end_included):\n",
    "    if not end_included:\n",
    "        if value >= start and value < end:\n",
    "            return True\n",
    "    else:\n",
    "        if value >= start and value <= end:\n",
    "            return True\n",
    "    return False\n",
    "\n",
    "range_frequencies = []\n",
    "for i in range(len(range_points)-2):\n",
    "    count = 0\n",
    "    for size in shoe_sizes:\n",
    "        if belongs_to_interval(size, range_points[i], range_points[i+1], False):\n",
    "            count += 1\n",
    "    range_frequencies.append(count)\n",
    "count_last = 0\n",
    "for size in shoe_sizes:\n",
    "    if belongs_to_interval(size, range_points[len(range_points)-2], range_points[len(range_points)-1], True):\n",
    "        count_last += 1\n",
    "range_frequencies.append(count_last)\n",
    "\n",
    "dict_FreqTable = {}\n",
    "for i in range(num_intervals):\n",
    "    dict_FreqTable[intervals[i]] = [interv_middles[i], range_frequencies[i]]\n",
    "df = pd.DataFrame(dict_FreqTable, columns=intervals, index=[\"Zi\", \"Ni\"])\n",
    "df.iloc[[1]] = df.iloc[[1]].applymap('{:.0f}'.format)\n",
    "print(\"\\t\\tFrequency distribution table\")\n",
    "display(df)\n",
    "print(f\"Sum = {sum(range_frequencies)}\")"
   ]
  },
  {
   "cell_type": "code",
   "execution_count": 6,
   "metadata": {},
   "outputs": [
    {
     "data": {
      "text/plain": [
       "Text(0.5, 1.0, 'Frequency diagram')"
      ]
     },
     "execution_count": 6,
     "metadata": {},
     "output_type": "execute_result"
    },
    {
     "data": {
      "image/png": "[encoded data removed]",
      "text/plain": [
       "<Figure size 432x288 with 1 Axes>"
      ]
     },
     "metadata": {
      "needs_background": "light"
     },
     "output_type": "display_data"
    }
   ],
   "source": [
    "# visualisation\n",
    "plt.stem(interv_middles, range_frequencies, linefmt='-k', basefmt='-k')\n",
    "plt.xlabel(\"$z_i$\", fontsize=16)\n",
    "plt.ylabel(\"$n_i$\", fontsize=16)\n",
    "plt.title(\"Frequency diagram\")"
   ]
  },
  {
   "cell_type": "code",
   "execution_count": 7,
   "metadata": {},
   "outputs": [
    {
     "data": {
      "text/plain": [
       "Text(0.5, 1.0, 'Frequency polygon')"
      ]
     },
     "execution_count": 7,
     "metadata": {},
     "output_type": "execute_result"
    },
    {
     "data": {
      "image/png": "[encoded data removed]",
      "text/plain": [
       "<Figure size 432x288 with 1 Axes>"
      ]
     },
     "metadata": {
      "needs_background": "light"
     },
     "output_type": "display_data"
    }
   ],
   "source": [
    "plt.plot(interv_middles, range_frequencies, '-o', color=\"k\")\n",
    "plt.grid()\n",
    "plt.xlabel(\"$z_i$\", fontsize=16)\n",
    "plt.ylabel(\"$n_i$\", fontsize=16)\n",
    "plt.title(\"Frequency polygon\")"
   ]
  },
  {
   "cell_type": "code",
   "execution_count": 8,
   "metadata": {},
   "outputs": [
    {
     "data": {
      "image/png": "[encoded data removed]",
      "text/plain": [
       "<Figure size 432x288 with 1 Axes>"
      ]
     },
     "metadata": {
      "needs_background": "light"
     },
     "output_type": "display_data"
    }
   ],
   "source": [
    "plt.hist(shoe_sizes, bins=range_points, color = 'orange')\n",
    "plt.xticks(range_points)\n",
    "plt.grid()\n",
    "plt.title(\"Histogram\")\n",
    "plt.show()"
   ]
  },
  {
   "cell_type": "code",
   "execution_count": 9,
   "metadata": {},
   "outputs": [
    {
     "name": "stdout",
     "output_type": "stream",
     "text": [
      "F(x):\n",
      "0.000, x < 35.0\n",
      "0.069, xє[35.0, 36.625)\n",
      "0.388, xє[36.625, 38.25)\n",
      "0.519, xє[38.25, 39.875)\n",
      "0.706, xє[39.875, 41.5)\n",
      "0.800, xє[41.5, 43.125)\n",
      "0.887, xє[43.125, 44.75)\n",
      "0.975, xє[44.75, 46.375)\n",
      "1.000, x >= 46.375\n"
     ]
    }
   ],
   "source": [
    "# ECDF\n",
    "freq_cumul = np.cumsum(range_frequencies)\n",
    "freq_cumul = freq_cumul / len(shoe_sizes)\n",
    "def output_func(sizes, results):\n",
    "    print(f\"{0:.3f}, x < {sizes[0]}\")\n",
    "    for i in range(len(sizes)-2):\n",
    "        print(f\"{results[i]:.3f}, xє[{sizes[i]}, {sizes[i+1]})\")\n",
    "    print(f\"{results[-1]:.3f}, x >= {sizes[-2]}\")\n",
    "print(\"F(x):\")        \n",
    "output_func(range_points, freq_cumul)"
   ]
  },
  {
   "cell_type": "code",
   "execution_count": 10,
   "metadata": {},
   "outputs": [
    {
     "data": {
      "text/plain": [
       "<matplotlib.collections.PathCollection at 0x1b78778bb20>"
      ]
     },
     "execution_count": 10,
     "metadata": {},
     "output_type": "execute_result"
    },
    {
     "data": {
      "image/png": "[encoded data removed]",
      "text/plain": [
       "<Figure size 648x432 with 1 Axes>"
      ]
     },
     "metadata": {
      "needs_background": "light"
     },
     "output_type": "display_data"
    }
   ],
   "source": [
    "# ECDF plot\n",
    "y_coord = np.insert(freq_cumul, 0, 0) # y coordinates\n",
    "\n",
    "x_mins = np.copy(range_points[:-1])\n",
    "x_mins = np.insert(x_mins, 0, -400)\n",
    "\n",
    "x_maxs = np.copy(range_points[:-1])\n",
    "x_maxs = np.append(x_maxs, 5000)\n",
    "plt.figure(figsize=(9,6))\n",
    "plt.hlines(y_coord, xmin=x_mins, xmax=x_maxs, colors='green')\n",
    "plt.title(\"ECDF\")\n",
    "plt.grid()\n",
    "plt.xlabel(\"$x$\", fontsize=16)\n",
    "plt.ylabel(\"F(x)\", fontsize=16)\n",
    "plt.xlim([33,50])\n",
    "plt.ylim()\n",
    "\n",
    "y1 = np.delete(y_coord, -1)\n",
    "x1 = np.copy(range_points[:-1])\n",
    "plt.scatter(x1, y1, marker='>', color='green')"
   ]
  },
  {
   "cell_type": "code",
   "execution_count": 11,
   "metadata": {},
   "outputs": [
    {
     "name": "stdout",
     "output_type": "stream",
     "text": [
      "Median = 39.0\n",
      "Mode = [37.4375]\n",
      "Mean = 40.12890625\n",
      "Deviation = 1494.84130859375\n"
     ]
    }
   ],
   "source": [
    "# location characteristics\n",
    "print(f\"Median = {np.median(shoe_sizes)}\")\n",
    "max_freq_val = max(range_frequencies)\n",
    "index_max = range_frequencies.index(max_freq_val)\n",
    "print(f\"Mode = [{interv_middles[index_max]}]\")\n",
    "mean = 0\n",
    "for i in range(num_intervals):\n",
    "    mean += interv_middles[i] * range_frequencies[i]\n",
    "mean /= n\n",
    "print(f\"Mean = {mean}\")\n",
    "squares_for_dev = np.copy(interv_middles)-mean\n",
    "squares_for_dev = squares_for_dev ** 2 \n",
    "for i in range(num_intervals):\n",
    "    squares_for_dev[i] *= range_frequencies[i]\n",
    "deviation = np.sum(squares_for_dev)\n",
    "print(f\"Deviation = {deviation}\")"
   ]
  },
  {
   "cell_type": "code",
   "execution_count": 12,
   "metadata": {},
   "outputs": [
    {
     "name": "stdout",
     "output_type": "stream",
     "text": [
      "Range = 13.0\n",
      "Variance = 9.401517664111635\n",
      "Dispersion = 9.342758178710938\n",
      "Std = 3.0661894370882625\n",
      "Coefficient of variation (CV) = 0.07640849760484719\n",
      "Q1 = 38\n",
      "Q2 = 39\n",
      "Q3 = 42\n",
      "Interquartile range = 4\n",
      "D1 = 37\n",
      "D2 = 38\n",
      "D3 = 38\n",
      "D4 = 39\n",
      "D5 = 39\n",
      "D6 = 40\n",
      "D7 = 41\n",
      "D8 = 43\n",
      "D9 = 45\n",
      "Interdecile range = 8\n"
     ]
    }
   ],
   "source": [
    "# spread characteristics\n",
    "range_ = range_points[-1] - range_points[0]\n",
    "print(f\"Range = {range_}\")\n",
    "s2 = deviation / (n-1)\n",
    "print(f\"Variance = {s2}\")\n",
    "D = deviation / n\n",
    "print(f\"Dispersion = {D}\")\n",
    "std = np.sqrt(s2)\n",
    "print(f\"Std = {std}\")\n",
    "cv = std / mean\n",
    "print(f\"Coefficient of variation (CV) = {cv}\")\n",
    "Q1 = shoe_sizes[int((n/4)-1)]\n",
    "Q2 = shoe_sizes[int((n/2)-1)]\n",
    "Q3 = shoe_sizes[int((3*n/4)-1)]\n",
    "print(f\"Q1 = {Q1}\")\n",
    "print(f\"Q2 = {Q2}\")\n",
    "print(f\"Q3 = {Q3}\")\n",
    "print(f\"Interquartile range = {Q3 - Q1}\")\n",
    "deciles = [shoe_sizes[int(n*i/10-1)] for i in range(1, 10)]\n",
    "for i in range(len(deciles)):\n",
    "    print(f\"D{i+1} = {deciles[i]}\")\n",
    "print(f\"Interdecile range = {deciles[-1] - deciles[0]}\")"
   ]
  },
  {
   "cell_type": "code",
   "execution_count": 13,
   "metadata": {},
   "outputs": [
    {
     "name": "stdout",
     "output_type": "stream",
     "text": [
      "Moments (c=0):\n",
      "m0 = 1.0\n",
      "m1 = 40.12890625\n",
      "m2 = 1619.671875\n",
      "m3 = 65762.25953674316\n",
      "m4 = 2686320.754989624\n",
      "Central moments:\n",
      "mu0 = 1.0\n",
      "mu1 = 0.0\n",
      "mu2 = 9.34276\n",
      "mu3 = 16.76937\n",
      "mu4 = 199.65064\n"
     ]
    }
   ],
   "source": [
    "# form characteristics\n",
    "def st_moment(k, n, fr, z):\n",
    "    m = 0\n",
    "    for i in range(len(z)):\n",
    "        m += (z[i]**(k)) * fr[i]\n",
    "    return m / n\n",
    "def centr_moment(k, n, mean, fr, z):\n",
    "    mu = 0\n",
    "    for i in range(len(z)):\n",
    "        mu += ((z[i]-mean)**(k)) * fr[i]\n",
    "    return mu / n\n",
    "st_moments = [st_moment(i, n, range_frequencies, interv_middles) for i in range(5)]\n",
    "centr_moments = [centr_moment(i, n, mean, range_frequencies, interv_middles) for i in range(5)]\n",
    "print(\"Moments (c=0):\")\n",
    "for i in range(len(st_moments)):\n",
    "    print(f\"m{i} = {st_moments[i]}\")\n",
    "print(\"Central moments:\")\n",
    "for i in range(len(centr_moments)):\n",
    "    print(f\"mu{i} = {round(centr_moments[i],5)}\")\n",
    "mu2 = centr_moments[2]\n",
    "mu3 = centr_moments[3]\n",
    "mu4 = centr_moments[4]"
   ]
  },
  {
   "cell_type": "code",
   "execution_count": 14,
   "metadata": {},
   "outputs": [
    {
     "name": "stdout",
     "output_type": "stream",
     "text": [
      "Skewness = 0.5872245634484328\n",
      "Most values are on the left.\n",
      "Excess kurtosis = -0.7127138549377352\n",
      "Light tails \n"
     ]
    }
   ],
   "source": [
    "skewness = mu3 / (mu2**(3/2))\n",
    "print(f\"Skewness = {skewness}\")\n",
    "if skewness > 0:\n",
    "    print(\"Most values are on the left.\")\n",
    "elif skewness == 0:\n",
    "    print(\"Symmetric\")\n",
    "else:\n",
    "    print(\"Most values are on the right.\")\n",
    "kurtosis = mu4 / (mu2**2) - 3\n",
    "print(f\"Excess kurtosis = {kurtosis}\")\n",
    "if kurtosis > 0:\n",
    "    print(\"Heavier tails\")\n",
    "elif kurtosis < 0:\n",
    "    print(\"Light tails \")\n",
    "else:\n",
    "    print(\"Normal\")"
   ]
  },
  {
   "cell_type": "code",
   "execution_count": null,
   "metadata": {},
   "outputs": [],
   "source": []
  }
 ],
 "metadata": {
  "kernelspec": {
   "display_name": "Python 3",
   "language": "python",
   "name": "python3"
  },
  "language_info": {
   "codemirror_mode": {
    "name": "ipython",
    "version": 3
   },
   "file_extension": ".py",
   "mimetype": "text/x-python",
   "name": "python",
   "nbconvert_exporter": "python",
   "pygments_lexer": "ipython3",
   "version": "3.8.5"
  }
 },
 "nbformat": 4,
 "nbformat_minor": 4
}
