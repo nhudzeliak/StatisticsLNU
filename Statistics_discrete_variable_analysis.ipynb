{
 "cells": [
  {
   "cell_type": "code",
   "execution_count": 3,
   "metadata": {},
   "outputs": [],
   "source": [
    "import pandas as pd\n",
    "import matplotlib.pyplot as plt\n",
    "import numpy as np\n",
    "%matplotlib inline"
   ]
  },
  {
   "cell_type": "code",
   "execution_count": 4,
   "metadata": {},
   "outputs": [
    {
     "data": {
      "text/html": [
       "<div>\n",
       "<style scoped>\n",
       "    .dataframe tbody tr th:only-of-type {\n",
       "        vertical-align: middle;\n",
       "    }\n",
       "\n",
       "    .dataframe tbody tr th {\n",
       "        vertical-align: top;\n",
       "    }\n",
       "\n",
       "    .dataframe thead th {\n",
       "        text-align: right;\n",
       "    }\n",
       "</style>\n",
       "<table border=\"1\" class=\"dataframe\">\n",
       "  <thead>\n",
       "    <tr style=\"text-align: right;\">\n",
       "      <th></th>\n",
       "      <th>time</th>\n",
       "      <th>sex</th>\n",
       "      <th>height</th>\n",
       "      <th>shoe_size</th>\n",
       "    </tr>\n",
       "  </thead>\n",
       "  <tbody>\n",
       "    <tr>\n",
       "      <th>0</th>\n",
       "      <td>04.10.2016 17:58:51</td>\n",
       "      <td>woman</td>\n",
       "      <td>160.0</td>\n",
       "      <td>40</td>\n",
       "    </tr>\n",
       "    <tr>\n",
       "      <th>1</th>\n",
       "      <td>04.10.2016 17:58:59</td>\n",
       "      <td>woman</td>\n",
       "      <td>171.0</td>\n",
       "      <td>39</td>\n",
       "    </tr>\n",
       "    <tr>\n",
       "      <th>2</th>\n",
       "      <td>04.10.2016 18:00:15</td>\n",
       "      <td>woman</td>\n",
       "      <td>174.0</td>\n",
       "      <td>39</td>\n",
       "    </tr>\n",
       "    <tr>\n",
       "      <th>3</th>\n",
       "      <td>04.10.2016 18:01:17</td>\n",
       "      <td>woman</td>\n",
       "      <td>176.0</td>\n",
       "      <td>40</td>\n",
       "    </tr>\n",
       "    <tr>\n",
       "      <th>4</th>\n",
       "      <td>04.10.2016 18:01:22</td>\n",
       "      <td>man</td>\n",
       "      <td>195.0</td>\n",
       "      <td>46</td>\n",
       "    </tr>\n",
       "  </tbody>\n",
       "</table>\n",
       "</div>"
      ],
      "text/plain": [
       "                  time    sex  height  shoe_size\n",
       "0  04.10.2016 17:58:51  woman   160.0         40\n",
       "1  04.10.2016 17:58:59  woman   171.0         39\n",
       "2  04.10.2016 18:00:15  woman   174.0         39\n",
       "3  04.10.2016 18:01:17  woman   176.0         40\n",
       "4  04.10.2016 18:01:22    man   195.0         46"
      ]
     },
     "execution_count": 4,
     "metadata": {},
     "output_type": "execute_result"
    }
   ],
   "source": [
    "data = pd.read_csv(\"wo_men.csv\")\n",
    "data.head()"
   ]
  },
  {
   "cell_type": "code",
   "execution_count": 5,
   "metadata": {},
   "outputs": [],
   "source": [
    "shoe_sizes = np.array(data[\"shoe_size\"])\n",
    "n = len(shoe_sizes)"
   ]
  },
  {
   "cell_type": "code",
   "execution_count": 6,
   "metadata": {
    "scrolled": true
   },
   "outputs": [
    {
     "name": "stdout",
     "output_type": "stream",
     "text": [
      "Variation series:\n",
      " [35 35 36 36 36 36 36 36 36 36 36 37 37 37 37 37 37 37 37 37 37 37 37 37\n",
      " 37 37 37 37 37 38 38 38 38 38 38 38 38 38 38 38 38 38 38 38 38 38 38 38\n",
      " 38 38 38 38 38 38 38 38 38 38 38 38 38 38 39 39 39 39 39 39 39 39 39 39\n",
      " 39 39 39 39 39 39 39 39 39 39 39 40 40 40 40 40 40 40 40 40 40 40 40 40\n",
      " 40 40 40 40 41 41 41 41 41 41 41 41 41 41 41 41 41 42 42 42 42 42 42 42\n",
      " 42 42 43 43 43 43 43 43 44 44 44 44 44 44 44 44 44 44 44 44 44 44 45 45\n",
      " 45 45 45 45 45 45 45 45 46 46 46 46 47 47 47 48]\n",
      "160 elements\n"
     ]
    }
   ],
   "source": [
    "# building variation series\n",
    "shoe_sizes = np.sort(shoe_sizes)\n",
    "print(\"Variation series:\\n\", shoe_sizes)\n",
    "print(f\"{len(shoe_sizes)} elements\")"
   ]
  },
  {
   "cell_type": "code",
   "execution_count": 7,
   "metadata": {},
   "outputs": [
    {
     "name": "stdout",
     "output_type": "stream",
     "text": [
      "\t\tFrequency distribution table\n"
     ]
    },
    {
     "data": {
      "text/html": [
       "<div>\n",
       "<style scoped>\n",
       "    .dataframe tbody tr th:only-of-type {\n",
       "        vertical-align: middle;\n",
       "    }\n",
       "\n",
       "    .dataframe tbody tr th {\n",
       "        vertical-align: top;\n",
       "    }\n",
       "\n",
       "    .dataframe thead th {\n",
       "        text-align: right;\n",
       "    }\n",
       "</style>\n",
       "<table border=\"1\" class=\"dataframe\">\n",
       "  <thead>\n",
       "    <tr style=\"text-align: right;\">\n",
       "      <th></th>\n",
       "      <th>35</th>\n",
       "      <th>36</th>\n",
       "      <th>37</th>\n",
       "      <th>38</th>\n",
       "      <th>39</th>\n",
       "      <th>40</th>\n",
       "      <th>41</th>\n",
       "      <th>42</th>\n",
       "      <th>43</th>\n",
       "      <th>44</th>\n",
       "      <th>45</th>\n",
       "      <th>46</th>\n",
       "      <th>47</th>\n",
       "      <th>48</th>\n",
       "      <th>Sum</th>\n",
       "    </tr>\n",
       "  </thead>\n",
       "  <tbody>\n",
       "    <tr>\n",
       "      <th>Ni</th>\n",
       "      <td>2</td>\n",
       "      <td>9</td>\n",
       "      <td>18</td>\n",
       "      <td>33</td>\n",
       "      <td>21</td>\n",
       "      <td>17</td>\n",
       "      <td>13</td>\n",
       "      <td>9</td>\n",
       "      <td>6</td>\n",
       "      <td>14</td>\n",
       "      <td>10</td>\n",
       "      <td>4</td>\n",
       "      <td>3</td>\n",
       "      <td>1</td>\n",
       "      <td>160</td>\n",
       "    </tr>\n",
       "  </tbody>\n",
       "</table>\n",
       "</div>"
      ],
      "text/plain": [
       "    35  36  37  38  39  40  41  42  43  44  45  46  47  48  Sum\n",
       "Ni   2   9  18  33  21  17  13   9   6  14  10   4   3   1  160"
      ]
     },
     "metadata": {},
     "output_type": "display_data"
    }
   ],
   "source": [
    "# frequency distribution table\n",
    "from IPython.display import display, HTML\n",
    "unique_sizes, unique_counts = np.unique(shoe_sizes, return_counts = True)\n",
    "df_dict = {unique_sizes[i]:unique_counts[i] for i in range(len(unique_sizes))} \n",
    "df_dict[\"Sum\"] = np.sum(unique_counts)\n",
    "cols=[unique_sizes[i] for i in range(len(unique_sizes))]\n",
    "cols.append(\"Sum\")\n",
    "df = pd.DataFrame(df_dict, columns=cols, index=[\"Ni\"])\n",
    "print(\"\\t\\tFrequency distribution table\")\n",
    "display(df)"
   ]
  },
  {
   "cell_type": "code",
   "execution_count": 8,
   "metadata": {},
   "outputs": [
    {
     "data": {
      "text/plain": [
       "Text(0.5, 1.0, 'Frequency diagram')"
      ]
     },
     "execution_count": 8,
     "metadata": {},
     "output_type": "execute_result"
    },
    {
     "data": {
      "image/png": "[encoded data removed]",
      "text/plain": [
       "<Figure size 432x288 with 1 Axes>"
      ]
     },
     "metadata": {
      "needs_background": "light"
     },
     "output_type": "display_data"
    }
   ],
   "source": [
    "# visualization\n",
    "plt.stem(unique_sizes, unique_counts, linefmt='-k', basefmt='-k')\n",
    "plt.xlabel(\"$x_i$\", fontsize=16)\n",
    "plt.ylabel(\"$n_i$\", fontsize=16)\n",
    "plt.title(\"Frequency diagram\")"
   ]
  },
  {
   "cell_type": "code",
   "execution_count": 9,
   "metadata": {},
   "outputs": [
    {
     "data": {
      "text/plain": [
       "Text(0.5, 1.0, 'Frequency polygon')"
      ]
     },
     "execution_count": 9,
     "metadata": {},
     "output_type": "execute_result"
    },
    {
     "data": {
      "image/png": "[encoded data removed]",
      "text/plain": [
       "<Figure size 432x288 with 1 Axes>"
      ]
     },
     "metadata": {
      "needs_background": "light"
     },
     "output_type": "display_data"
    }
   ],
   "source": [
    "plt.plot(unique_sizes, unique_counts, '-o', color=\"k\")\n",
    "plt.grid()\n",
    "plt.xlabel(\"$x_i$\", fontsize=16)\n",
    "plt.ylabel(\"$n_i$\", fontsize=16)\n",
    "plt.title(\"Frequency polygon\")"
   ]
  },
  {
   "cell_type": "code",
   "execution_count": 10,
   "metadata": {},
   "outputs": [
    {
     "name": "stdout",
     "output_type": "stream",
     "text": [
      "F(x):\n",
      "0.000, x < 35\n",
      "0.013, xє[35, 36)\n",
      "0.069, xє[36, 37)\n",
      "0.181, xє[37, 38)\n",
      "0.388, xє[38, 39)\n",
      "0.519, xє[39, 40)\n",
      "0.625, xє[40, 41)\n",
      "0.706, xє[41, 42)\n",
      "0.762, xє[42, 43)\n",
      "0.800, xє[43, 44)\n",
      "0.887, xє[44, 45)\n",
      "0.950, xє[45, 46)\n",
      "0.975, xє[46, 47)\n",
      "0.994, xє[47, 48)\n",
      "1.000, x >= 48\n"
     ]
    }
   ],
   "source": [
    "# ECDF\n",
    "freq_cumul = np.cumsum(unique_counts)\n",
    "freq_cumul = freq_cumul / n\n",
    "def output_func(sizes, results):\n",
    "    print(f\"{0:.3f}, x < {sizes[0]}\")\n",
    "    for i in range(len(sizes)-1):\n",
    "        print(f\"{results[i]:.3f}, xє[{sizes[i]}, {sizes[i+1]})\")\n",
    "    print(f\"{results[-1]:.3f}, x >= {sizes[-1]}\")\n",
    "print(\"F(x):\")        \n",
    "output_func(unique_sizes, freq_cumul) "
   ]
  },
  {
   "cell_type": "code",
   "execution_count": 11,
   "metadata": {},
   "outputs": [
    {
     "data": {
      "text/plain": [
       "<matplotlib.collections.PathCollection at 0x24db9340940>"
      ]
     },
     "execution_count": 11,
     "metadata": {},
     "output_type": "execute_result"
    },
    {
     "data": {
      "image/png": "[encoded data removed]",
      "text/plain": [
       "<Figure size 648x432 with 1 Axes>"
      ]
     },
     "metadata": {
      "needs_background": "light"
     },
     "output_type": "display_data"
    }
   ],
   "source": [
    "# ECDF plot\n",
    "\n",
    "y_coord = np.insert(freq_cumul, 0, 0)\n",
    "\n",
    "x_mins = np.copy(unique_sizes)\n",
    "x_mins = np.insert(x_mins, 0, -400)\n",
    "\n",
    "x_maxs = np.copy(unique_sizes)\n",
    "x_maxs = np.append(x_maxs, 5000)\n",
    "plt.figure(figsize=(9,6))\n",
    "plt.hlines(y_coord, xmin=x_mins, xmax=x_maxs, colors='green')\n",
    "plt.title(\"ECDF\")\n",
    "plt.grid()\n",
    "plt.xlabel(\"$x$\", fontsize=16)\n",
    "plt.ylabel(\"F(x)\", fontsize=16)\n",
    "plt.xlim([33,50])\n",
    "plt.ylim()\n",
    "\n",
    "y1 = np.delete(y_coord, -1)\n",
    "x1 = np.copy(unique_sizes)\n",
    "plt.scatter(x1, y1, marker='>', color='green')\n"
   ]
  },
  {
   "cell_type": "code",
   "execution_count": 17,
   "metadata": {},
   "outputs": [
    {
     "name": "stdout",
     "output_type": "stream",
     "text": [
      "Median = 39.0\n",
      "Mode = [38]\n",
      "Mean = 40.13125\n",
      "Deviation = 1438.24375\n"
     ]
    }
   ],
   "source": [
    "# location characteristics\n",
    "from scipy import stats\n",
    "print(f\"Median = {np.median(shoe_sizes)}\")\n",
    "print(f\"Mode = {stats.mode(shoe_sizes)[0]}\")\n",
    "mean = np.mean(shoe_sizes)\n",
    "print(f\"Mean = {mean}\")\n",
    "squares_for_dev = np.copy(shoe_sizes) - mean\n",
    "squares_for_dev = squares_for_dev ** 2 \n",
    "deviation = np.sum(squares_for_dev)\n",
    "print(f\"Deviation = {deviation}\")"
   ]
  },
  {
   "cell_type": "code",
   "execution_count": 18,
   "metadata": {},
   "outputs": [
    {
     "name": "stdout",
     "output_type": "stream",
     "text": [
      "Range = 13\n",
      "Variance = 9.045558176100629\n",
      "Dispersion = 8.9890234375\n",
      "Std = 3.00758344457816\n",
      "Coefficient of variation (CV) = 0.0749436771737277\n",
      "Q1 = 38.0\n",
      "Q2 = 39.0\n",
      "Q3 = 42.0\n",
      "Interquartile range = 4.0\n",
      "D1 = 37.0\n",
      "D2 = 38.0\n",
      "D3 = 38.0\n",
      "D4 = 39.0\n",
      "D5 = 39.0\n",
      "D6 = 40.0\n",
      "D7 = 41.0\n",
      "D8 = 43.2\n",
      "D9 = 45.0\n",
      "Interdecile range = 8.0\n"
     ]
    }
   ],
   "source": [
    "# spread characteristics\n",
    "range_ = np.max(shoe_sizes) - np.min(shoe_sizes)\n",
    "print(f\"Range = {range_}\")\n",
    "s2 = np.var(shoe_sizes, ddof=1)\n",
    "print(f\"Variance = {s2}\")\n",
    "D = np.var(shoe_sizes, ddof=0)\n",
    "print(f\"Dispersion = {D}\")\n",
    "std = np.std(shoe_sizes, ddof=1)\n",
    "print(f\"Std = {std}\")\n",
    "cv = std / mean\n",
    "print(f\"Coefficient of variation (CV) = {cv}\")\n",
    "quartiles = [np.percentile(shoe_sizes, 25*i) for i in range(1,4)]\n",
    "for i in range(len(quartiles)):\n",
    "    print(f\"Q{i+1} = {quartiles[i]}\")\n",
    "print(f\"Interquartile range = {quartiles[-1] - quartiles[0]}\")\n",
    "deciles = [np.percentile(shoe_sizes, 10*i) for i in range(1,10)]\n",
    "for i in range(len(deciles)):\n",
    "    print(f\"D{i+1} = {deciles[i]}\")\n",
    "print(f\"Interdecile range = {deciles[-1] - deciles[0]}\")\n",
    "if n % 100 == 0:\n",
    "    centiles = [np.percentile(shoe_sizes, i) for i in range(1,100)]\n",
    "    for i in range(len(centiles)):\n",
    "        print(f\"C{i+1} = {centiles[i]}\")\n",
    "    print(f\"Intercentile range = {centiles[-1] - centiles[0]}\")"
   ]
  },
  {
   "cell_type": "code",
   "execution_count": 19,
   "metadata": {},
   "outputs": [
    {
     "name": "stdout",
     "output_type": "stream",
     "text": [
      "Moments (c=0):\n",
      "m0 = 1.0\n",
      "m1 = 40.13125\n",
      "m2 = 1619.50625\n",
      "m3 = 65730.75625\n",
      "m4 = 2683464.25625\n",
      "Central moments:\n",
      "mu0 = 1.0\n",
      "mu1 = 0.0\n",
      "mu2 = 8.98902\n",
      "mu3 = 16.46456\n",
      "mu4 = 193.68296\n"
     ]
    }
   ],
   "source": [
    "# form characteristics\n",
    "def st_moment(k, arr):\n",
    "    m = 0\n",
    "    for i in range(len(arr)):\n",
    "        m += arr[i]**(k)\n",
    "    return m / n\n",
    "def centr_moment(k, mean, arr):\n",
    "    mu = 0\n",
    "    for i in range(len(arr)):\n",
    "        mu += (arr[i]-mean)**(k)\n",
    "    return mu / n\n",
    "st_moments = [st_moment(i, shoe_sizes) for i in range(5)]\n",
    "centr_moments = [centr_moment(i, mean, shoe_sizes) for i in range(5)]\n",
    "print(\"Moments (c=0):\")\n",
    "for i in range(len(st_moments)):\n",
    "    print(f\"m{i} = {st_moments[i]}\")\n",
    "print(\"Central moments:\")\n",
    "for i in range(len(centr_moments)):\n",
    "    print(f\"mu{i} = {round(centr_moments[i],5)}\")\n",
    "mu2 = centr_moments[2]\n",
    "mu3 = centr_moments[3]\n",
    "mu4 = centr_moments[4]"
   ]
  },
  {
   "cell_type": "code",
   "execution_count": 20,
   "metadata": {},
   "outputs": [
    {
     "name": "stdout",
     "output_type": "stream",
     "text": [
      "Skewness = 0.6109158420061312\n",
      "Most values are on the left.\n",
      "Excess kurtosis = -0.6030090984638656\n",
      "Light tails \n"
     ]
    }
   ],
   "source": [
    "skewness = mu3 / (mu2**(3/2))\n",
    "print(f\"Skewness = {skewness}\")\n",
    "if skewness > 0:\n",
    "    print(\"Most values are on the left.\")\n",
    "elif skewness == 0:\n",
    "    print(\"Symmetric\")\n",
    "else:\n",
    "    print(\"Most values are on the right.\")\n",
    "kurtosis = mu4 / (mu2**2) - 3\n",
    "print(f\"Excess kurtosis = {kurtosis}\")\n",
    "if kurtosis > 0:\n",
    "    print(\"Heavier tails\")\n",
    "elif kurtosis < 0:\n",
    "    print(\"Light tails \")\n",
    "else:\n",
    "    print(\"Normal\")\n",
    "    "
   ]
  },
  {
   "cell_type": "code",
   "execution_count": null,
   "metadata": {},
   "outputs": [],
   "source": []
  }
 ],
 "metadata": {
  "kernelspec": {
   "display_name": "Python 3",
   "language": "python",
   "name": "python3"
  },
  "language_info": {
   "codemirror_mode": {
    "name": "ipython",
    "version": 3
   },
   "file_extension": ".py",
   "mimetype": "text/x-python",
   "name": "python",
   "nbconvert_exporter": "python",
   "pygments_lexer": "ipython3",
   "version": "3.8.5"
  }
 },
 "nbformat": 4,
 "nbformat_minor": 4
}
